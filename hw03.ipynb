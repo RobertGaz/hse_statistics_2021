{
 "cells": [
  {
   "cell_type": "code",
   "execution_count": 1,
   "id": "14554c0a",
   "metadata": {},
   "outputs": [],
   "source": [
    "import numpy as np\n",
    "import seaborn as sns\n",
    "import numpy.random as rd\n",
    "import matplotlib.pyplot as plt\n",
    "import math\n",
    "from IPython.display import display, Math\n",
    "import scipy.stats as st"
   ]
  },
  {
   "cell_type": "markdown",
   "id": "f66c9f00",
   "metadata": {},
   "source": [
    "<b>Задание 1\n",
    "\n",
    "Есть выборка с распределением пуассона П(λ).\n",
    "    \n",
    "Показать, что λ попадает в доверительный интервал с нужной вероятностью γ."
   ]
  },
  {
   "cell_type": "markdown",
   "id": "e2e9f21e",
   "metadata": {},
   "source": [
    "<b> Решение\n",
    "\n",
    "Выборочной оценкой λ является выборочное среднее - по методу моментов. \n",
    "\n",
    "Поэтому будем строить доверительный интервал для выборочного среднего. \n",
    "    \n",
    "Будем пользоваться следующей выборочной статистикой:\n",
    "$$\\sqrt{n} \\frac{\\overline{x}-a}{\\tilde s_n}\\sim t_{n-1} $$"
   ]
  },
  {
   "cell_type": "markdown",
   "id": "75c4a2bb",
   "metadata": {},
   "source": [
    "Тогда доверительный интервал вычисляется как:\n",
    "$$(\\;\\;\\overline{x}-t_{(1+\\gamma)/2}\\:\\frac{\\tilde s_n}{\\sqrt{n}},\\;\\;\\overline{x}+t_{(1+\\gamma)/2}\\:\\frac{\\tilde s_n}{\\sqrt{n}}\\;\\;) $$    "
   ]
  },
  {
   "cell_type": "code",
   "execution_count": 2,
   "id": "36c7df2f",
   "metadata": {},
   "outputs": [],
   "source": [
    "def get_interval(sample):\n",
    "    \n",
    "    # выборочное среднее\n",
    "    m = np.mean(sample)\n",
    "\n",
    "    # несмещенное выборочное стандартное отклонение\n",
    "    s = np.std(sample, ddof=1)\n",
    "\n",
    "    # квантиль распределения Стьюдента\n",
    "    t = st.t(df=n-1).ppf((1+gamma)/2)\n",
    "\n",
    "    # и, наконец, доверительный интервал\n",
    "    interval = (m - t * s / np.sqrt(n), m + t * s / np.sqrt(n))\n",
    "    \n",
    "    return interval"
   ]
  },
  {
   "cell_type": "markdown",
   "id": "021a4b89",
   "metadata": {},
   "source": [
    "\n",
    " "
   ]
  },
  {
   "cell_type": "markdown",
   "id": "ef7b6568",
   "metadata": {},
   "source": [
    "Зафиксируем λ, γ и размер выборки n. "
   ]
  },
  {
   "cell_type": "code",
   "execution_count": 3,
   "id": "f2cb4878",
   "metadata": {},
   "outputs": [],
   "source": [
    "# лямбда\n",
    "lam = 20\n",
    "\n",
    "# гамма\n",
    "gamma = 0.6\n",
    "\n",
    "# размер выборки\n",
    "n = 100"
   ]
  },
  {
   "cell_type": "markdown",
   "id": "5434b250",
   "metadata": {},
   "source": [
    " "
   ]
  },
  {
   "cell_type": "markdown",
   "id": "159874a7",
   "metadata": {},
   "source": [
    "Будем строить доверительный интервал для различных выборок размера n и считать, сколько раз мы в него попали. Поделим на общее число попыток - получим искомую вероятность."
   ]
  },
  {
   "cell_type": "code",
   "execution_count": 4,
   "id": "32209204",
   "metadata": {},
   "outputs": [],
   "source": [
    "cnt = 0\n",
    "\n",
    "for i in range(1, 1000):\n",
    "\n",
    "    sample = st.poisson.rvs(lam, size=n)\n",
    "    \n",
    "    interval = get_interval(sample)\n",
    "\n",
    "    if lam > interval[0] and lam < interval[1]:\n",
    "        cnt +=1\n",
    "\n",
    "p = cnt / 1000"
   ]
  },
  {
   "cell_type": "code",
   "execution_count": 5,
   "id": "790f7db2",
   "metadata": {},
   "outputs": [
    {
     "data": {
      "text/plain": [
       "0.606"
      ]
     },
     "execution_count": 5,
     "metadata": {},
     "output_type": "execute_result"
    }
   ],
   "source": [
    "p"
   ]
  },
  {
   "cell_type": "markdown",
   "id": "be67b5be",
   "metadata": {},
   "source": [
    "Как видим, параметр λ попадает в доверительный интервал с нужной вероятностью γ."
   ]
  },
  {
   "cell_type": "markdown",
   "id": "fa1ff894",
   "metadata": {},
   "source": [
    " "
   ]
  },
  {
   "cell_type": "markdown",
   "id": "56fa3f7d",
   "metadata": {},
   "source": [
    " "
   ]
  },
  {
   "cell_type": "markdown",
   "id": "56334241",
   "metadata": {},
   "source": [
    "<b> Задание 2\n",
    "    \n",
    "Исследовать зависимость ширины доверительного интервала от объема выборки"
   ]
  },
  {
   "cell_type": "markdown",
   "id": "7846ab3f",
   "metadata": {},
   "source": [
    "<b>Решение"
   ]
  },
  {
   "cell_type": "markdown",
   "id": "5f11b3bb",
   "metadata": {},
   "source": [
    "Доверительный интервал вычисляется как:\n",
    "$$(\\;\\;\\overline{x}-t_{(1+\\gamma)/2}\\:\\frac{\\tilde s_n}{\\sqrt{n}},\\;\\;\\overline{x}+t_{(1+\\gamma)/2}\\:\\frac{\\tilde s_n}{\\sqrt{n}}\\;\\;) $$    "
   ]
  },
  {
   "cell_type": "markdown",
   "id": "37f53dab",
   "metadata": {},
   "source": [
    "Видно, что с ростом объема выборки n интервал сужается - можно сказать, становится точнее."
   ]
  }
 ],
 "metadata": {
  "kernelspec": {
   "display_name": "Python 3 (ipykernel)",
   "language": "python",
   "name": "python3"
  },
  "language_info": {
   "codemirror_mode": {
    "name": "ipython",
    "version": 3
   },
   "file_extension": ".py",
   "mimetype": "text/x-python",
   "name": "python",
   "nbconvert_exporter": "python",
   "pygments_lexer": "ipython3",
   "version": "3.8.10"
  }
 },
 "nbformat": 4,
 "nbformat_minor": 5
}
